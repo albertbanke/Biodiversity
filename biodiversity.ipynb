{
 "cells": [
  {
   "cell_type": "markdown",
   "metadata": {},
   "source": [
    "### Biodiversity Python Project\n",
    "#### by Albert Cort Banke"
   ]
  },
  {
   "cell_type": "markdown",
   "metadata": {},
   "source": [
    "Project scope\n",
    "\n",
    "**Goal**: To draw insights from the biodiversity data included and illustrate interesting features by answering questions with visualizations and summary statistics\n",
    "\n",
    "**Data**: There are two datasets. One is data about species and the other is data about observations of different species in national parks \n",
    "\n",
    "**Analysis**: We use exploratory data analysis and hypothesis testing to assess the data and determine associations in the data.\n",
    "\n",
    "**Questions**: In what ways do species represent biodiversity?"
   ]
  },
  {
   "cell_type": "markdown",
   "metadata": {},
   "source": []
  }
 ],
 "metadata": {
  "kernelspec": {
   "display_name": "Python 3",
   "language": "python",
   "name": "python3"
  },
  "language_info": {
   "codemirror_mode": {
    "name": "ipython",
    "version": 3
   },
   "file_extension": ".py",
   "mimetype": "text/x-python",
   "name": "python",
   "nbconvert_exporter": "python",
   "pygments_lexer": "ipython3",
   "version": "3.9.10"
  }
 },
 "nbformat": 4,
 "nbformat_minor": 4
}
