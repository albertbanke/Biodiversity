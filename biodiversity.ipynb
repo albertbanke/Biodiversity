{
 "cells": [
  {
   "cell_type": "markdown",
   "metadata": {},
   "source": [
    "### Biodiversity Python Project by Albert Cort Banke\n",
    "_____________________________________________________________________________________________________________________________________________"
   ]
  },
  {
   "cell_type": "markdown",
   "metadata": {},
   "source": [
    "Project scope\n",
    "\n",
    "***Goal***: To draw insights from the biodiversity data included and illustrate interesting features by answering questions with visualizations and summary statistics\n",
    "\n",
    "***Data***: There are two datasets. One is data about species and the other is data about observations of different species in national parks \n",
    "\n",
    "***Analysis***: We use exploratory data analysis and hypothesis testing to assess the data and determine associations in the data.\n",
    "\n",
    "***Questions***: In what ways do species represent biodiversity? What parks have the most biodiversity? Why?"
   ]
  },
  {
   "cell_type": "markdown",
   "metadata": {},
   "source": [
    "_____________________________________________________________________________________________________________________________________________"
   ]
  },
  {
   "cell_type": "markdown",
   "metadata": {},
   "source": [
    "**1. Preparation**\n",
    "\n",
    "Import the relevant libraries (A) and import and read the data (B)"
   ]
  },
  {
   "cell_type": "code",
   "execution_count": 5,
   "metadata": {},
   "outputs": [],
   "source": [
    "# (A)\n",
    "from matplotlib import pyplot as plt\n",
    "from scipy.stats import pearsonr\n",
    "import pandas as pd\n",
    "import numpy as np\n",
    "import seaborn as sns"
   ]
  },
  {
   "cell_type": "code",
   "execution_count": 6,
   "metadata": {},
   "outputs": [
    {
     "name": "stdout",
     "output_type": "stream",
     "text": [
      "  category                scientific_name  \\\n",
      "0   Mammal  Clethrionomys gapperi gapperi   \n",
      "1   Mammal                      Bos bison   \n",
      "2   Mammal                     Bos taurus   \n",
      "3   Mammal                     Ovis aries   \n",
      "4   Mammal                 Cervus elaphus   \n",
      "\n",
      "                                        common_names conservation_status  \n",
      "0                           Gapper's Red-Backed Vole                 NaN  \n",
      "1                              American Bison, Bison                 NaN  \n",
      "2  Aurochs, Aurochs, Domestic Cattle (Feral), Dom...                 NaN  \n",
      "3  Domestic Sheep, Mouflon, Red Sheep, Sheep (Feral)                 NaN  \n",
      "4                                      Wapiti Or Elk                 NaN  \n",
      "            scientific_name                            park_name  observations\n",
      "0        Vicia benghalensis  Great Smoky Mountains National Park            68\n",
      "1            Neovison vison  Great Smoky Mountains National Park            77\n",
      "2         Prunus subcordata               Yosemite National Park           138\n",
      "3      Abutilon theophrasti                  Bryce National Park            84\n",
      "4  Githopsis specularioides  Great Smoky Mountains National Park            85\n"
     ]
    }
   ],
   "source": [
    "# (B)\n",
    "species = pd.read_csv('species_info.csv')\n",
    "\n",
    "obs = pd.read_csv('observations.csv')\n",
    "\n",
    "# We print the first few observations to check the data has been imported correctly\n",
    "\n",
    "print(species.head())\n",
    "print(obs.head())\n",
    "\n",
    "# The datasets look correct at first glance, however, in the species dataset the conservation_status column is apparently blank.\n",
    "# Moreover, the common_names column contains multiple names for the scientific_name. This is important to note"
   ]
  },
  {
   "cell_type": "code",
   "execution_count": 7,
   "metadata": {},
   "outputs": [
    {
     "name": "stdout",
     "output_type": "stream",
     "text": [
      "<class 'pandas.core.frame.DataFrame'>\n",
      "RangeIndex: 5824 entries, 0 to 5823\n",
      "Data columns (total 4 columns):\n",
      " #   Column               Non-Null Count  Dtype \n",
      "---  ------               --------------  ----- \n",
      " 0   category             5824 non-null   object\n",
      " 1   scientific_name      5824 non-null   object\n",
      " 2   common_names         5824 non-null   object\n",
      " 3   conservation_status  191 non-null    object\n",
      "dtypes: object(4)\n",
      "memory usage: 182.1+ KB\n",
      "None\n",
      "<class 'pandas.core.frame.DataFrame'>\n",
      "RangeIndex: 23296 entries, 0 to 23295\n",
      "Data columns (total 3 columns):\n",
      " #   Column           Non-Null Count  Dtype \n",
      "---  ------           --------------  ----- \n",
      " 0   scientific_name  23296 non-null  object\n",
      " 1   park_name        23296 non-null  object\n",
      " 2   observations     23296 non-null  int64 \n",
      "dtypes: int64(1), object(2)\n",
      "memory usage: 546.1+ KB\n",
      "None\n",
      "[nan 'Species of Concern' 'Endangered' 'Threatened' 'In Recovery']\n"
     ]
    }
   ],
   "source": [
    "# Check for missing values in the datasets\n",
    "\n",
    "print(species.info())\n",
    "\n",
    "# The conservation-status has an overload of missing entries. The other columns in the species dataset are complete \n",
    "\n",
    "print(obs.info())\n",
    "\n",
    "# The observation dataset is complete. No missing values are present \n",
    "\n",
    "# From the two info() headers we see that most of the data has an object datatype. One is an int64, or, a quantative variable. \n",
    "# This means most of the data is strings or text\n",
    "# This is important to note beacause it affects which visualisations and statistics are wise to use \n",
    "\n",
    "print(species.conservation_status.unique())\n",
    "\n",
    "# The unique values for this column is 'Species of Concern' 'Endangered' 'Threatened' 'In Recovery' and 'nan'. \n",
    "# The 'nan' value could represent a missing value, but perhaps it could represent a condition status that is not on the current axis. \n",
    "# This could be a an indication 'Good' or 'Thriving' for example. "
   ]
  },
  {
   "cell_type": "markdown",
   "metadata": {},
   "source": [
    "2. Data transformation\n",
    "\n",
    "Prepare (C) the dataset and review (D) it for the exploratory data analysis"
   ]
  },
  {
   "cell_type": "code",
   "execution_count": 8,
   "metadata": {},
   "outputs": [
    {
     "name": "stdout",
     "output_type": "stream",
     "text": [
      "False\n",
      "False\n",
      "True\n",
      "  category                scientific_name  \\\n",
      "0   Mammal  Clethrionomys gapperi gapperi   \n",
      "1   Mammal                      Bos bison   \n",
      "2   Mammal                     Bos taurus   \n",
      "3   Mammal                     Ovis aries   \n",
      "4   Mammal                 Cervus elaphus   \n",
      "\n",
      "                                        common_names conservation_status  \\\n",
      "0                           Gapper's Red-Backed Vole                 NaN   \n",
      "1                              American Bison, Bison                 NaN   \n",
      "2  Aurochs, Aurochs, Domestic Cattle (Feral), Dom...                 NaN   \n",
      "3  Domestic Sheep, Mouflon, Red Sheep, Sheep (Feral)                 NaN   \n",
      "4                                      Wapiti Or Elk                 NaN   \n",
      "\n",
      "   Bryce National Park  Great Smoky Mountains National Park  \\\n",
      "0                  130                                   98   \n",
      "1                   68                                   77   \n",
      "2                   99                                   56   \n",
      "3                  119                                   76   \n",
      "4                  183                                  161   \n",
      "\n",
      "   Yellowstone National Park  Yosemite National Park  total_observations  \n",
      "0                        270                     117                 615  \n",
      "1                        269                     128                 542  \n",
      "2                        235                     124                 514  \n",
      "3                        221                     126                 542  \n",
      "4                        495                     379                1218  \n",
      "True\n"
     ]
    }
   ],
   "source": [
    "# (C) Prepare the dataset by addressing their originality\n",
    "\n",
    "print(obs.scientific_name.is_unique) # Prints false - this means we have multiple instances of the same scientific_name\n",
    "print(obs.park_name.is_unique) # Prints false - this means we have multiple instances of the same park_name\n",
    "\n",
    "# We can now assume that we have species being observed across different parks with different observation numbers\n",
    "# A simple but strong assumption. Important for merging the two datasets\n",
    "# Were gonna pivot the column values in the park_name column into columns \n",
    "# Then were going to create a total observations column\n",
    "\n",
    "obs = obs.pivot_table(index = 'scientific_name', columns = 'park_name', values = 'observations', aggfunc = np.sum)\n",
    "\n",
    "obs = pd.DataFrame(obs.to_records()) #flattening the dataframe\n",
    "\n",
    "obs['total_observations'] = obs['Bryce National Park'] + obs['Great Smoky Mountains National Park'] + obs['Yellowstone National Park'] + obs['Yosemite National Park']\n",
    "\n",
    "# drop any duplicates in the species dataframe\n",
    "\n",
    "species.drop_duplicates('scientific_name', inplace = True)\n",
    "\n",
    "print(species.scientific_name.is_unique) # prints true - this means we have unique values for the scientific_name column\n",
    "\n",
    "# Preparing the dataset by merging it. We can do so beacuse of the scientific_name column existing in both datasets and its uniqueness. \n",
    "\n",
    "biodiversity = pd.merge(\n",
    "    species,\n",
    "    obs,\n",
    "    on = 'scientific_name',\n",
    "    how = 'inner'\n",
    ")\n",
    "\n",
    "# Check to see if the merge is correct\n",
    "\n",
    "print(biodiversity.head())\n",
    "\n",
    "print(biodiversity.scientific_name.is_unique)\n",
    "\n",
    "# Looks good. We see the columns and now we check the vitals\n",
    " "
   ]
  },
  {
   "cell_type": "code",
   "execution_count": null,
   "metadata": {},
   "outputs": [],
   "source": [
    "# (D) Review the dataset by looking at its vitals and the summary statistics \n",
    "\n",
    "# First and foremost, we need to do something about the NaN's (missing values). Most conservation_status classifications are empty.\n",
    "\n",
    "# To check how we can map the missing we should divide the dataset into the respective category of species (mammels, birds etc.). Then we can check which values are present and their\n",
    "# respective conservation status. From these, we can create a template for how many observations each classification should have. \n",
    "\n",
    "\n",
    "\n",
    "#print(obs.nlargest(5, 'observations'))\n",
    "\n",
    "# (D) To review the dataset we look at some overall summary statistics. Important note: The data is mainly categorical. \n",
    "# This implicates the quantative summary statistics. \n"
   ]
  }
 ],
 "metadata": {
  "kernelspec": {
   "display_name": "Python 3",
   "language": "python",
   "name": "python3"
  },
  "language_info": {
   "codemirror_mode": {
    "name": "ipython",
    "version": 3
   },
   "file_extension": ".py",
   "mimetype": "text/x-python",
   "name": "python",
   "nbconvert_exporter": "python",
   "pygments_lexer": "ipython3",
   "version": "3.8.8"
  }
 },
 "nbformat": 4,
 "nbformat_minor": 4
}
